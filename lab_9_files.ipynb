{
  "nbformat": 4,
  "nbformat_minor": 0,
  "metadata": {
    "colab": {
      "name": "lab 9 files.ipynb",
      "provenance": [],
      "authorship_tag": "ABX9TyPRUp4xoykgIfyse4Pudk9i",
      "include_colab_link": true
    },
    "kernelspec": {
      "name": "python3",
      "display_name": "Python 3"
    },
    "language_info": {
      "name": "python"
    }
  },
  "cells": [
    {
      "cell_type": "markdown",
      "metadata": {
        "id": "view-in-github",
        "colab_type": "text"
      },
      "source": [
        "<a href=\"https://colab.research.google.com/github/pj1807/File-Handling-Using_Python/blob/main/lab_9_files.ipynb\" target=\"_parent\"><img src=\"https://colab.research.google.com/assets/colab-badge.svg\" alt=\"Open In Colab\"/></a>"
      ]
    },
    {
      "cell_type": "code",
      "source": [
        ""
      ],
      "metadata": {
        "id": "9mASfzxL6sXn"
      },
      "execution_count": null,
      "outputs": []
    },
    {
      "cell_type": "code",
      "execution_count": null,
      "metadata": {
        "id": "K12yMQek7sD7"
      },
      "outputs": [],
      "source": [
        "#Q1\n",
        "f1 = open(\"source1.txt\",'r+')\n",
        "f2 = open(\"source2.txt\",'r+')\n",
        "\n",
        "li1 = []\n",
        "for i in f1:   #converting files into integer list\n",
        "  li1.append(int(i))\n",
        "\n",
        "li2 = []\n",
        "for i in f2:\n",
        "  li2.append(int(i))\n",
        "\n",
        "li = []\n",
        "li3 =(li1+li2)\n",
        "while li3:    #apply sorting algorithm\n",
        "    min = li3[0]  \n",
        "    for x in li3: \n",
        "        if x < min:\n",
        "            min = x\n",
        "    li.append(str(min))\n",
        "    li.append(\" \")\n",
        "    li3.remove(min)\n",
        "\n",
        "target = open('target.txt','w+')\n",
        "\n",
        "target.writelines(li)\n",
        "target.close()\n",
        "\n",
        "f1.close()\n",
        "f2.close()"
      ]
    },
    {
      "cell_type": "code",
      "source": [
        "#Q2\n",
        "\n",
        "f = open('text.txt','r')\n",
        "data = f.read()\n",
        "f.close()\n",
        "\n",
        "x = int(input(\"Press \\n1 for encrypt\\n2 for decrypt\\n\"))\n",
        "if x==1:\n",
        "  f = open('text.txt','w+')\n",
        "  s = \"\"\n",
        "  for i in data:\n",
        "    s = s + chr(ord(i)+65)\n",
        "  f.write(s)\n",
        "  print(\"Encrypted Successfully!!\")\n",
        "  f.close()\n",
        "elif x==2:\n",
        "  f = open('text.txt','w+')\n",
        "  s = \"\"\n",
        "  for i in data:\n",
        "    s = s + chr(ord(i)-65)\n",
        "  f.write(s)\n",
        "  print(\"Decrypted Successfully!!\")\n",
        "  f.close()\n",
        "else:\n",
        "  print(\"invalid choice !!\")\n"
      ],
      "metadata": {
        "id": "Zfrr9px55i_W",
        "colab": {
          "base_uri": "https://localhost:8080/"
        },
        "outputId": "0f847359-c4c7-4c2b-caec-e674af1aa9d1"
      },
      "execution_count": null,
      "outputs": [
        {
          "output_type": "stream",
          "name": "stdout",
          "text": [
            "Press \n",
            "1 for encrypt\n",
            "2 for decrypt\n",
            "1\n",
            "Encrypted Successfully!!\n"
          ]
        }
      ]
    },
    {
      "cell_type": "code",
      "source": [
        "#Q3\n",
        "\n",
        "f1 = open(\"source1.txt\",'r')\n",
        "f2 = open(\"source2.txt\",'r')\n",
        "f3 = open(\"merge.txt\",'w')\n",
        "\n",
        "f3.write(f1.read() + f2.read())\n",
        "\n",
        "f1.close()\n",
        "f2.close()\n",
        "f3.close()"
      ],
      "metadata": {
        "id": "BuNvfhX1v9rT"
      },
      "execution_count": null,
      "outputs": []
    },
    {
      "cell_type": "code",
      "source": [
        "#Q4\n",
        "\n",
        "a = 0\n",
        "b = 0\n",
        "c = 0\n",
        "file5 = open(\"text.txt\",\"r\")\n",
        "\n",
        "for i in file5:\n",
        "  line = i.split()   #split in lines\n",
        "  a+=1\n",
        "  for word in line:   #split in words\n",
        "    b+=1\n",
        "    for char in word:   #split in character\n",
        "      c+=1\n",
        "\n",
        "file5.close()\n",
        "\n",
        "print(\"lines : \",a)\n",
        "print(\"word : \",b)\n",
        "print(\"characters : \",c)"
      ],
      "metadata": {
        "id": "3jUadEuhQbPX",
        "colab": {
          "base_uri": "https://localhost:8080/"
        },
        "outputId": "0b16ecb2-e4f4-4f64-eb40-81674bd68bcb"
      },
      "execution_count": null,
      "outputs": [
        {
          "output_type": "stream",
          "name": "stdout",
          "text": [
            "lines :  3\n",
            "word :  7\n",
            "characters :  24\n"
          ]
        }
      ]
    },
    {
      "cell_type": "code",
      "source": [
        "#Q5\n",
        "\n",
        "file1 = open('text.txt','w+')\n",
        "try:\n",
        " file1.write(\"prasam jain is a coder\")\n",
        "except IOError:\n",
        " print(\"File does not exist\")\n",
        "file1 = open('text.txt','r')\n",
        "text=file1.read()\n",
        "Dict = {}\n",
        "for i in text:\n",
        " if i == ' ':\n",
        "   continue\n",
        " if i in Dict:\n",
        "    Dict[i]+=1\n",
        " else:\n",
        "    Dict[i] = 1\n",
        "print(Dict)"
      ],
      "metadata": {
        "colab": {
          "base_uri": "https://localhost:8080/"
        },
        "id": "R54ZILy2uQbB",
        "outputId": "804833fe-8232-481b-bcb0-d40178de9661"
      },
      "execution_count": null,
      "outputs": [
        {
          "output_type": "stream",
          "name": "stdout",
          "text": [
            "{'p': 1, 'r': 2, 'a': 4, 's': 2, 'm': 1, 'j': 1, 'i': 2, 'n': 1, 'c': 1, 'o': 1, 'd': 1, 'e': 1}\n"
          ]
        }
      ]
    },
    {
      "cell_type": "code",
      "source": [
        "with open(\"/content/text.txt\") as file:\n",
        "  data = file.readlines()\n",
        "  for each in data:\n",
        "    for word in each:\n",
        "      letter = word.split()\n",
        "      print(letter)"
      ],
      "metadata": {
        "id": "PKFjO5AYuQp7"
      },
      "execution_count": null,
      "outputs": []
    },
    {
      "cell_type": "code",
      "source": [
        "# P2 code to find prime factor of a number\n",
        "import sympy\n",
        "li = []\n",
        "def prime_fac(i):\n",
        "  if(sympy.isprime(i) == True):\n",
        "    li.append(i)\n",
        "\n",
        "def fun(x):\n",
        "  if(type(x) == int):\n",
        "    for i in range(1,x):\n",
        "      if(x%i)==0:\n",
        "        prime_fac(i)\n",
        "        \n",
        "  else:\n",
        "    print(\"invalid type!!\")\n",
        "\n",
        "\n",
        "fun(56)  \n",
        "print(li)"
      ],
      "metadata": {
        "id": "BSOaYIPgjjqj",
        "colab": {
          "base_uri": "https://localhost:8080/"
        },
        "outputId": "89841f9b-15f1-47a6-ff35-20786893a33c"
      },
      "execution_count": null,
      "outputs": [
        {
          "output_type": "stream",
          "name": "stdout",
          "text": [
            "[2, 7]\n"
          ]
        }
      ]
    },
    {
      "cell_type": "code",
      "source": [
        "# Python program to print prime factors\n",
        "\n",
        "import math\n",
        "\n",
        "# A function to print all prime factors of\n",
        "# a given number n\n",
        "def primeFactors(n):\n",
        "\t\n",
        "\t# Print the number of two's that divide n\n",
        "\twhile n % 2 == 0:\n",
        "\t\tprint (\"2\")\n",
        "\t\tn = n / 2\n",
        "\t\t\n",
        "\t# n must be odd at this point\n",
        "\t# so a skip of 2 ( i = i + 2) can be used\n",
        "\tfor i in range(3,int(math.sqrt(n))+1,2):\n",
        "\t\t\n",
        "\t\t# while i divides n , print i and divide n\n",
        "\t\twhile n % i== 0:\n",
        "\t\t\tprint (i)\n",
        "\t\t\tn = n / i\n",
        "\t\t\t\n",
        "\t# Condition if n is a prime\n",
        "\t# number greater than 2\n",
        "\tif n > 2:\n",
        "\t\tprint (n)\n",
        "\t\t\n",
        "# Driver Program to test above function\n",
        "\n",
        "n = 52\n",
        "\n",
        "primeFactors(n)\n",
        "\n",
        "# This code is contributed by Harshit Agrawal\n"
      ],
      "metadata": {
        "colab": {
          "base_uri": "https://localhost:8080/"
        },
        "id": "tmp9maIlNmAh",
        "outputId": "02d5eb85-dc6c-4964-f3b4-215dbcc460b3"
      },
      "execution_count": null,
      "outputs": [
        {
          "output_type": "stream",
          "name": "stdout",
          "text": [
            "2\n",
            "2\n",
            "13.0\n"
          ]
        }
      ]
    },
    {
      "cell_type": "code",
      "source": [
        ""
      ],
      "metadata": {
        "id": "0O-cYV_QQk5N"
      },
      "execution_count": null,
      "outputs": []
    }
  ]
}